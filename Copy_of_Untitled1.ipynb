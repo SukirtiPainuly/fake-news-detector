{
  "nbformat": 4,
  "nbformat_minor": 0,
  "metadata": {
    "colab": {
      "provenance": []
    },
    "kernelspec": {
      "name": "python3",
      "display_name": "Python 3"
    },
    "language_info": {
      "name": "python"
    }
  },
  "cells": [
    {
      "cell_type": "code",
      "execution_count": null,
      "metadata": {
        "colab": {
          "base_uri": "https://localhost:8080/"
        },
        "id": "QcKpaAKIXkJN",
        "outputId": "cb6f484e-86ee-4bfd-d8cd-a7003d52260a"
      },
      "outputs": [
        {
          "output_type": "stream",
          "name": "stdout",
          "text": [
            "Accuracy: 99.5%\n",
            "[[4710   26]\n",
            " [  19 4225]]\n",
            "Prediction: FAKE\n"
          ]
        }
      ],
      "source": [
        "import pandas as pd\n",
        "#fake = pd.read_csv(\"Fake.csv\")\n",
        "fake = pd.read_csv(\"Fake.csv\", encoding='unicode_escape')\n",
        "true = pd.read_csv(\"True.csv\")\n",
        "fake['label'] = 'FAKE'\n",
        "true['label'] = 'REAL'\n",
        "data = pd.concat([fake, true], axis=0)\n",
        "data = data.sample(frac=1).reset_index(drop=True)\n",
        "data.to_csv(\"news.csv\", index=False)\n",
        "data.head()\n",
        "\n",
        "from sklearn.model_selection import train_test_split\n",
        "X = data['text']\n",
        "y = data['label']\n",
        "X_train, X_test, y_train, y_test = train_test_split(\n",
        "    X, y, test_size=0.2, random_state=42)\n",
        "\n",
        "from sklearn.feature_extraction.text import TfidfVectorizer\n",
        "\n",
        "tfidf = TfidfVectorizer(stop_words='english', max_df=0.7)\n",
        "X_train_tf = tfidf.fit_transform(X_train)\n",
        "X_test_tf = tfidf.transform(X_test)\n",
        "\n",
        "from sklearn.linear_model import PassiveAggressiveClassifier\n",
        "\n",
        "model = PassiveAggressiveClassifier(max_iter=50)\n",
        "model.fit(X_train_tf, y_train)\n",
        "\n",
        "from sklearn.metrics import accuracy_score, confusion_matrix\n",
        "\n",
        "y_pred = model.predict(X_test_tf)\n",
        "acc = accuracy_score(y_test, y_pred)\n",
        "\n",
        "print(f\"Accuracy: {round(acc*100, 2)}%\")\n",
        "print(confusion_matrix(y_test, y_pred))\n",
        "\n",
        "sample = [\"Indian Government launches AI mission for rural development\"]\n",
        "sample_tf = tfidf.transform(sample)\n",
        "print(\"Prediction:\", model.predict(sample_tf)[0])\n",
        "\n",
        "\n"
      ]
    }
  ]
}